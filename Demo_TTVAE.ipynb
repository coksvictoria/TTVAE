{
  "nbformat": 4,
  "nbformat_minor": 0,
  "metadata": {
    "colab": {
      "provenance": [],
      "machine_shape": "hm",
      "gpuType": "T4"
    },
    "kernelspec": {
      "name": "python3",
      "display_name": "Python 3"
    },
    "language_info": {
      "name": "python"
    },
    "accelerator": "GPU"
  },
  "cells": [
    {
      "cell_type": "code",
      "source": [
        "!python --version"
      ],
      "metadata": {
        "id": "zEXrrzIxoORU",
        "colab": {
          "base_uri": "https://localhost:8080/"
        },
        "outputId": "6c6aabf0-56f0-4f3c-9edd-b1957ce72faf"
      },
      "execution_count": 6,
      "outputs": [
        {
          "output_type": "stream",
          "name": "stdout",
          "text": [
            "Python 3.10.12\n"
          ]
        }
      ]
    },
    {
      "cell_type": "code",
      "source": [
        "!pip install -r requirements.txt --quiet"
      ],
      "metadata": {
        "id": "IJVdLEfA1zuf",
        "colab": {
          "base_uri": "https://localhost:8080/"
        },
        "outputId": "780d6d28-28c5-40c0-8e73-f4930567c4ca"
      },
      "execution_count": 7,
      "outputs": [
        {
          "output_type": "stream",
          "name": "stdout",
          "text": [
            "\u001b[2K     \u001b[90m━━━━━━━━━━━━━━━━━━━━━━━━━━━━━━━━━━━━━━━━\u001b[0m \u001b[32m77.9/77.9 kB\u001b[0m \u001b[31m2.0 MB/s\u001b[0m eta \u001b[36m0:00:00\u001b[0m\n",
            "\u001b[?25h  Preparing metadata (setup.py) ... \u001b[?25l\u001b[?25hdone\n",
            "\u001b[2K     \u001b[90m━━━━━━━━━━━━━━━━━━━━━━━━━━━━━━━━━━━━━━━━\u001b[0m \u001b[32m81.9/81.9 kB\u001b[0m \u001b[31m9.6 MB/s\u001b[0m eta \u001b[36m0:00:00\u001b[0m\n",
            "\u001b[2K     \u001b[90m━━━━━━━━━━━━━━━━━━━━━━━━━━━━━━━━━━━━━━━━\u001b[0m \u001b[32m137.1/137.1 kB\u001b[0m \u001b[31m18.7 MB/s\u001b[0m eta \u001b[36m0:00:00\u001b[0m\n",
            "\u001b[2K     \u001b[90m━━━━━━━━━━━━━━━━━━━━━━━━━━━━━━━━━━━━━━━━\u001b[0m \u001b[32m74.8/74.8 kB\u001b[0m \u001b[31m10.5 MB/s\u001b[0m eta \u001b[36m0:00:00\u001b[0m\n",
            "\u001b[2K     \u001b[90m━━━━━━━━━━━━━━━━━━━━━━━━━━━━━━━━━━━━━━━━\u001b[0m \u001b[32m139.3/139.3 kB\u001b[0m \u001b[31m19.4 MB/s\u001b[0m eta \u001b[36m0:00:00\u001b[0m\n",
            "\u001b[2K     \u001b[90m━━━━━━━━━━━━━━━━━━━━━━━━━━━━━━━━━━━━━━━━\u001b[0m \u001b[32m11.9/11.9 MB\u001b[0m \u001b[31m108.9 MB/s\u001b[0m eta \u001b[36m0:00:00\u001b[0m\n",
            "\u001b[2K     \u001b[90m━━━━━━━━━━━━━━━━━━━━━━━━━━━━━━━━━━━━━━━━\u001b[0m \u001b[32m54.6/54.6 kB\u001b[0m \u001b[31m8.6 MB/s\u001b[0m eta \u001b[36m0:00:00\u001b[0m\n",
            "\u001b[2K     \u001b[90m━━━━━━━━━━━━━━━━━━━━━━━━━━━━━━━━━━━━━━━━\u001b[0m \u001b[32m170.7/170.7 kB\u001b[0m \u001b[31m24.6 MB/s\u001b[0m eta \u001b[36m0:00:00\u001b[0m\n",
            "\u001b[2K     \u001b[90m━━━━━━━━━━━━━━━━━━━━━━━━━━━━━━━━━━━━━━━━\u001b[0m \u001b[32m82.1/82.1 kB\u001b[0m \u001b[31m12.2 MB/s\u001b[0m eta \u001b[36m0:00:00\u001b[0m\n",
            "\u001b[2K     \u001b[90m━━━━━━━━━━━━━━━━━━━━━━━━━━━━━━━━━━━━━━━━\u001b[0m \u001b[32m1.7/1.7 MB\u001b[0m \u001b[31m86.6 MB/s\u001b[0m eta \u001b[36m0:00:00\u001b[0m\n",
            "\u001b[?25h  Building wheel for ml_collections (setup.py) ... \u001b[?25l\u001b[?25hdone\n"
          ]
        }
      ]
    },
    {
      "cell_type": "code",
      "source": [
        "!python s1_download_dataset.py\n",
        "!python s2_process_dataset.py"
      ],
      "metadata": {
        "id": "hPJxKmTXZc0U",
        "colab": {
          "base_uri": "https://localhost:8080/"
        },
        "outputId": "3bf10d94-0480-49ca-b876-cc0c2de53fb1"
      },
      "execution_count": 8,
      "outputs": [
        {
          "output_type": "stream",
          "name": "stdout",
          "text": [
            "Start processing dataset adult from UCI.\n",
            "Finish downloading dataset from https://archive.ics.uci.edu/static/public/2/adult.zip, data has been saved to data/adult.\n",
            "Finish unzipping adult.\n",
            "Start processing dataset abalone from UCI.\n",
            "Finish downloading dataset from https://archive.ics.uci.edu/static/public/1/abalone.zip, data has been saved to data/abalone.\n",
            "Finish unzipping abalone.\n",
            "dataset name : adult train size: (32561, 15), test size: (16281, 15)\n",
            "Numerical (32561, 6)\n",
            "Categorical (32561, 8)\n",
            "Processing and Saving adult Successfully!\n",
            "adult\n",
            "--------------------\n",
            "Total 48842\n",
            "Train 32561\n",
            "Test 16281\n",
            "N_Num 6\n",
            "N_Cat 9\n",
            "--------------------------------------------------\n",
            "dataset name : abalone train size: (3340, 9), test size: (836, 9)\n",
            "Numerical (3340, 7)\n",
            "Categorical (3340, 1)\n",
            "Processing and Saving abalone Successfully!\n",
            "abalone\n",
            "--------------------\n",
            "Total 4176\n",
            "Train 3340\n",
            "Test 836\n",
            "N_Num 8\n",
            "N_Cat 1\n",
            "--------------------------------------------------\n"
          ]
        }
      ]
    },
    {
      "cell_type": "code",
      "source": [
        "!python main.py --dataname 'adult' --method 'smote' --mode train\n",
        "!python main.py --dataname 'adult' --method 'synthpop' --mode train\n",
        "!python main.py --dataname 'adult' --method 'copula' --mode train"
      ],
      "metadata": {
        "id": "HdqDythBjocR",
        "colab": {
          "base_uri": "https://localhost:8080/"
        },
        "outputId": "1dcb1ed5-463c-4c90-cc46-de7d2f6a36fa"
      },
      "execution_count": 9,
      "outputs": [
        {
          "output_type": "stream",
          "name": "stdout",
          "text": [
            "-----------SMOTE----------------\n",
            "(32561, 15)\n",
            "Time:  1.7438397407531738\n",
            "Saving sampled data to synthetic/adult/SMOTE.csv\n",
            "-----------ADASYN----------------\n",
            "(32561, 15)\n",
            "Time:  2.6363437175750732\n",
            "Saving sampled data to synthetic/adult/ADASYN.csv\n",
            "-----------SMOTETomek----------------\n",
            "(32561, 15)\n",
            "Time:  4.5380706787109375\n",
            "Saving sampled data to synthetic/adult/SMOTETomek.csv\n",
            "train_age\n",
            "train_workclass\n",
            "train_fnlwgt\n",
            "train_education\n",
            "train_education.num\n",
            "train_marital.status\n",
            "train_occupation\n",
            "train_relationship\n",
            "train_race\n",
            "train_sex\n",
            "train_capital.gain\n",
            "train_capital.loss\n",
            "train_hours.per.week\n",
            "train_native.country\n",
            "train_income\n",
            "generate_age\n",
            "generate_workclass\n",
            "generate_fnlwgt\n",
            "generate_education\n",
            "generate_education.num\n",
            "generate_marital.status\n",
            "generate_occupation\n",
            "generate_relationship\n",
            "generate_race\n",
            "generate_sex\n",
            "generate_capital.gain\n",
            "generate_capital.loss\n",
            "generate_hours.per.week\n",
            "generate_native.country\n",
            "generate_income\n",
            "Time:  3.9691593647003174\n",
            "Saving sampled data to synthetic/adult/synthpop.csv\n",
            "Time:  12.067814350128174\n",
            "Saving sampled data to synthetic/adult/copula.csv\n"
          ]
        }
      ]
    },
    {
      "cell_type": "code",
      "source": [
        "!python main.py --dataname 'adult' --method 'ctgan' --mode train --sdv_epochs 200\n",
        "!python main.py --dataname 'adult' --method 'tvae' --mode train --sdv_epochs 200\n",
        "!python main.py --dataname 'adult' --method 'copulagan' --mode train --sdv_epochs 200"
      ],
      "metadata": {
        "id": "mZ0CZwtqcQ7t",
        "colab": {
          "base_uri": "https://localhost:8080/"
        },
        "outputId": "061546ac-069c-40ff-af5a-992af2c4ece5"
      },
      "execution_count": 10,
      "outputs": [
        {
          "output_type": "stream",
          "name": "stdout",
          "text": [
            "Gen. (-0.68) | Discrim. (-0.02): 100% 201/201 [06:01<00:00,  1.80s/it]\n",
            "Time:  391.99858236312866\n",
            "Saving sampled data to synthetic/adult/ctgan.csv\n",
            "Time:  171.51639127731323\n",
            "Saving sampled data to synthetic/adult/tvae.csv\n",
            "Time:  393.76494002342224\n",
            "Saving sampled data to synthetic/adult/copulagan.csv\n"
          ]
        }
      ]
    },
    {
      "cell_type": "code",
      "source": [
        "!python main.py --dataname 'adult' --method 'ctabgan' --mode train --sdv_epochs 300\n",
        "!python main.py --dataname 'adult' --method 'ctabgan' --mode sample"
      ],
      "metadata": {
        "id": "LL28YTR-cQUO",
        "colab": {
          "base_uri": "https://localhost:8080/"
        },
        "outputId": "c61e5944-040b-4454-ecdb-24277bde0825"
      },
      "execution_count": 11,
      "outputs": [
        {
          "output_type": "stream",
          "name": "stdout",
          "text": [
            "['age', 'workclass', 'fnlwgt', 'education', 'education.num', 'marital.status', 'occupation', 'relationship', 'race', 'sex', 'capital.gain', 'capital.loss', 'hours.per.week', 'native.country', 'income']\n",
            "['workclass', 'education', 'marital.status', 'occupation', 'relationship', 'race', 'sex', 'native.country', 'income']\n",
            "/content/drive/MyDrive/TDS/baselines/ctabgan/ckpt/adult\n",
            "100% 300/300 [1:03:04<00:00, 12.61s/it]\n",
            "Finished training in 3811.9643094539642  seconds.\n",
            "Time: 3.0813755989074707\n",
            "Saving sampled data to synthetic/adult/ctabgan.csv\n"
          ]
        }
      ]
    },
    {
      "cell_type": "code",
      "source": [
        "!python main.py --dataname 'adult' --method 'tabddpm' --mode train --tabddpm_epochs 1000\n",
        "!python main.py --dataname 'adult' --method 'tabddpm' --mode sample"
      ],
      "metadata": {
        "id": "D0dhdxdf4MT7",
        "colab": {
          "base_uri": "https://localhost:8080/"
        },
        "outputId": "9bd649d9-5524-4c6f-a307-658a3e510adc"
      },
      "execution_count": 12,
      "outputs": [
        {
          "output_type": "stream",
          "name": "stdout",
          "text": [
            "START TRAINING\n",
            "No NaNs in numerical features, skipping\n",
            "110\n",
            "{'num_classes': 2, 'is_y_cond': False, 'rtdl_params': {'d_layers': [1024, 2048, 2048, 1024], 'dropout': 0.0}, 'd_in': 110}\n",
            "mlp\n",
            "MLPDiffusion(\n",
            "  (mlp): MLP(\n",
            "    (blocks): ModuleList(\n",
            "      (0): Block(\n",
            "        (linear): Linear(in_features=1024, out_features=1024, bias=True)\n",
            "        (activation): ReLU()\n",
            "        (dropout): Dropout(p=0.0, inplace=False)\n",
            "      )\n",
            "      (1): Block(\n",
            "        (linear): Linear(in_features=1024, out_features=2048, bias=True)\n",
            "        (activation): ReLU()\n",
            "        (dropout): Dropout(p=0.0, inplace=False)\n",
            "      )\n",
            "      (2): Block(\n",
            "        (linear): Linear(in_features=2048, out_features=2048, bias=True)\n",
            "        (activation): ReLU()\n",
            "        (dropout): Dropout(p=0.0, inplace=False)\n",
            "      )\n",
            "      (3): Block(\n",
            "        (linear): Linear(in_features=2048, out_features=1024, bias=True)\n",
            "        (activation): ReLU()\n",
            "        (dropout): Dropout(p=0.0, inplace=False)\n",
            "      )\n",
            "    )\n",
            "    (head): Linear(in_features=1024, out_features=110, bias=True)\n",
            "  )\n",
            "  (proj): Linear(in_features=110, out_features=1024, bias=True)\n",
            "  (time_embed): Sequential(\n",
            "    (0): Linear(in_features=1024, out_features=1024, bias=True)\n",
            "    (1): SiLU()\n",
            "    (2): Linear(in_features=1024, out_features=1024, bias=True)\n",
            "  )\n",
            ")\n",
            "the number of parameters 11768942\n",
            "Steps:  1000\n",
            "Step 100/1000 MLoss: 2.0519 GLoss: 1597.0173 Sum: 1599.0692\n",
            "Step 200/1000 MLoss: 1.1585 GLoss: 1.0031 Sum: 2.1616\n",
            "Step 300/1000 MLoss: 1.1303 GLoss: 1.0009 Sum: 2.1312\n",
            "Step 400/1000 MLoss: 1.1279 GLoss: 0.9982 Sum: 2.1261\n",
            "Step 500/1000 MLoss: 1.1267 GLoss: 0.9987 Sum: 2.1254\n",
            "Step 600/1000 MLoss: 1.1198 GLoss: 0.999 Sum: 2.1188\n",
            "Step 700/1000 MLoss: 1.1152 GLoss: 1.0027 Sum: 2.1179\n",
            "Step 800/1000 MLoss: 1.1046 GLoss: 1.0006 Sum: 2.1052\n",
            "Step 900/1000 MLoss: 1.1055 GLoss: 1.0034 Sum: 2.1089\n",
            "Step 1000/1000 MLoss: 1.1103 GLoss: 1.0008 Sum: 2.1111\n",
            "synthetic/adult\n",
            "START SAMPLING\n",
            "No NaNs in numerical features, skipping\n",
            "mlp\n",
            "\n",
            "\n",
            "\n",
            "\n",
            "Shape torch.Size([32561, 15])\n",
            "(32561, 9)\n",
            "Sampling time: 240.98338150978088\n"
          ]
        }
      ]
    },
    {
      "cell_type": "code",
      "source": [
        "!python main.py --dataname 'adult' --method 'ttvae' --mode train --ttvae_epochs 300\n",
        "!python main.py --dataname 'adult' --method 'ttvae' --mode sample --lsi_method 'rectangle' #SMOTE or triangle"
      ],
      "metadata": {
        "id": "OwDaKLlnye-z",
        "colab": {
          "base_uri": "https://localhost:8080/"
        },
        "outputId": "ff97722c-819f-4bea-ce3d-dab8d6722fe2"
      },
      "execution_count": null,
      "outputs": [
        {
          "output_type": "stream",
          "name": "stdout",
          "text": [
            "['age', 'workclass', 'fnlwgt', 'education', 'education.num', 'marital.status', 'occupation', 'relationship', 'race', 'sex', 'capital.gain', 'capital.loss', 'hours.per.week', 'native.country', 'income']\n",
            "['workclass', 'education', 'marital.status', 'occupation', 'relationship', 'race', 'sex', 'native.country', 'income']\n",
            "/content/drive/MyDrive/TDS/ttvae/ckpt/adult\n",
            "157 32 128 8 1028 0.1\n",
            "Epoch 1/300: 100% 66/66 [00:02<00:00, 27.85it/s, Loss=31.5]\n"
          ]
        }
      ]
    },
    {
      "cell_type": "code",
      "source": [],
      "metadata": {
        "id": "KfPFxCCrpPBW"
      },
      "execution_count": null,
      "outputs": []
    }
  ]
}